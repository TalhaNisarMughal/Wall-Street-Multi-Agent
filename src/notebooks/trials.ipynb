{
 "cells": [
  {
   "cell_type": "code",
   "execution_count": 1,
   "metadata": {},
   "outputs": [
    {
     "name": "stderr",
     "output_type": "stream",
     "text": [
      "c:\\Users\\Rehman Computers\\.conda\\envs\\rag_env\\lib\\site-packages\\langchain_core\\_api\\deprecation.py:119: LangChainDeprecationWarning: The class `OpenAIEmbeddings` was deprecated in LangChain 0.0.9 and will be removed in 0.3.0. An updated version of the class exists in the langchain-openai package and should be used instead. To use it run `pip install -U langchain-openai` and import as `from langchain_openai import OpenAIEmbeddings`.\n",
      "  warn_deprecated(\n"
     ]
    },
    {
     "name": "stdout",
     "output_type": "stream",
     "text": [
      "Data stored successfully in ChromaDB.\n"
     ]
    },
    {
     "name": "stderr",
     "output_type": "stream",
     "text": [
      "c:\\Users\\Rehman Computers\\.conda\\envs\\rag_env\\lib\\site-packages\\langchain_core\\_api\\deprecation.py:119: LangChainDeprecationWarning: Since Chroma 0.4.x the manual persistence method is no longer supported as docs are automatically persisted.\n",
      "  warn_deprecated(\n"
     ]
    }
   ],
   "source": [
    "import os\n",
    "import chromadb\n",
    "import pdfplumber\n",
    "from langchain.schema.document import  Document\n",
    "from langchain.vectorstores import Chroma\n",
    "from langchain.embeddings import OpenAIEmbeddings\n",
    "from pathlib import Path\n",
    "from dotenv import load_dotenv\n",
    "\n",
    "load_dotenv()\n",
    "\n",
    "class CreateVectorStore():\n",
    "    \n",
    "    def __init__(self) -> None:\n",
    "        \n",
    "        os.environ['OPENAI_API_KEY'] = os.getenv('OPENAI_API_KEY')\n",
    "        self.embedding = OpenAIEmbeddings(api_key=os.getenv(\"OPENAI_API_KEY\"))\n",
    "        self.ROOT_DIR = \"../../\"\n",
    "        self.chromadb_dir = os.path.join(self.ROOT_DIR, \"ChromaDB\")\n",
    "        self.collection_name = 'proposal'\n",
    "\n",
    "        \n",
    "    def store_data_in_chromadb(self, documents):\n",
    "        \n",
    "        try:\n",
    "            chroma_client = chromadb.Client()\n",
    "            chroma_client.create_collection(name=self.collection_name)\n",
    "            db = Chroma.from_documents(documents, self.embedding, collection_name=self.collection_name, persist_directory=self.chromadb_dir)\n",
    "            db.persist()\n",
    "            print(\"Data stored successfully in ChromaDB.\")\n",
    "            \n",
    "        except Exception as e:\n",
    "            print(e)\n",
    "    \n",
    "    def extract_text_and_images_from_pdf(self, pdf_file):\n",
    "        text_data = []\n",
    "        with pdfplumber.open(pdf_file) as pdf:\n",
    "            for i, page in enumerate(pdf.pages):\n",
    "                metadata = {}\n",
    "                text = \"\"\n",
    "                page_number = i + 1\n",
    "                \n",
    "                page_text = page.extract_text() or \"\"\n",
    "                text += page_text \n",
    "                text = text.replace(f\"{page_number}\", '')\n",
    "                    \n",
    "                metadata[\"page_number\"] = page_number\n",
    "                document = Document(page_content=text,metadata=metadata)\n",
    "                text_data.append(document)\n",
    "\n",
    "        return text_data\n",
    "    \n",
    "if __name__ == \"__main__\":\n",
    "    \n",
    "    obj = CreateVectorStore()\n",
    "    pdf_path = '../../data/Proposal for buildersapp.pdf'\n",
    "    \n",
    "    documents_list = obj.extract_text_and_images_from_pdf(pdf_path)\n",
    "\n",
    "    obj.store_data_in_chromadb(documents_list)"
   ]
  },
  {
   "cell_type": "code",
   "execution_count": null,
   "metadata": {},
   "outputs": [],
   "source": []
  }
 ],
 "metadata": {
  "kernelspec": {
   "display_name": "rag_env",
   "language": "python",
   "name": "python3"
  },
  "language_info": {
   "codemirror_mode": {
    "name": "ipython",
    "version": 3
   },
   "file_extension": ".py",
   "mimetype": "text/x-python",
   "name": "python",
   "nbconvert_exporter": "python",
   "pygments_lexer": "ipython3",
   "version": "3.10.14"
  }
 },
 "nbformat": 4,
 "nbformat_minor": 2
}
